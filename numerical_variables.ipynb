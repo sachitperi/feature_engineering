{
 "cells": [
  {
   "cell_type": "markdown",
   "metadata": {},
   "source": [
    "* Whether Magnitude maters\n",
    "    * do we just need to know whether it's +ve or -ve? or we need to know the magnitude at a coarse level\n",
    "* Scale of the feature. What are the \n",
    "    * What are the largest and smallest values? or Do they span several orders of magnitude \n",
    "    * Models that are smooth functions of input features aree sensitive ti the scale output. Other eg: (k-means clustering, neearest neighbors method, radial basis function (RBF) kernels, and anything that uses eucledian distance. \n",
    "\n",
    "* Logical functions are not sensitive to input feature scale. \n",
    "    * Models based on space partitioning of trees (decision trees, gradient boosteed machines, random forests) are not sensitive to scale.\n",
    "\n",
    "* Important to consider the distribution of numeric features. Distribution summarises the probaility of taking on a particular value. \n",
    "    * the distribution of input features matter to some models (more than others) eg: traiing process of a linear regression model assumes that prediction errors are distributed like a Gaussian. Usually fine except when the prediction target variable spreads out over several orders of magnitude. \n",
    "\n",
    "The below discussion would be on complex features: Inteeraction features"
   ]
  },
  {
   "cell_type": "markdown",
   "metadata": {},
   "source": [
    "### Dealing with Counts\n",
    "When data is produced at high volume and velocity, it's very likely to contain a few extreme values. It is a good idea to check the scale and determine whether to keep the data as raw numbers, convert theem into binary values to indicate presence, or bin them into coarser granualrity. \n",
    "\n",
    "#### Binarization\n",
    "(Echo nest Taste Profile Dataset) \n",
    "\n",
    "#### Quantization or Binning\n",
    "(Yelp dataset challenge) \n",
    "##### Fixed width binning \n",
    "##### Quantile binning "
   ]
  },
  {
   "cell_type": "markdown",
   "metadata": {},
   "source": [
    "### Log Transforms\n",
    "(Online News Popularity dataset)\n",
    "#### Power Transforms: Generalization of Log Transforms"
   ]
  },
  {
   "cell_type": "markdown",
   "metadata": {},
   "source": [
    "### Feature Scalling or Normalization\n",
    "#### Min-Max Scalling\n",
    "#### Standardization (Variance Scalling) \n",
    "#### l<sup>2</sup> Normalization \n",
    "#### Interaction Features"
   ]
  },
  {
   "cell_type": "markdown",
   "metadata": {},
   "source": [
    "### Feature Selection \n",
    "#### Filtering \n",
    "#### Wrapper methods \n",
    "#### Embeded methods "
   ]
  },
  {
   "cell_type": "code",
   "execution_count": null,
   "metadata": {},
   "outputs": [],
   "source": []
  }
 ],
 "metadata": {
  "kernelspec": {
   "display_name": "Python 3",
   "language": "python",
   "name": "python3"
  },
  "language_info": {
   "codemirror_mode": {
    "name": "ipython",
    "version": 3
   },
   "file_extension": ".py",
   "mimetype": "text/x-python",
   "name": "python",
   "nbconvert_exporter": "python",
   "pygments_lexer": "ipython3",
   "version": "3.7.3"
  }
 },
 "nbformat": 4,
 "nbformat_minor": 2
}
